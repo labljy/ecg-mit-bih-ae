{
 "cells": [
  {
   "cell_type": "code",
   "execution_count": null,
   "metadata": {},
   "outputs": [],
   "source": [
    "!python data_prep_tri.py"
   ]
  },
  {
   "cell_type": "code",
   "execution_count": 5,
   "metadata": {
    "scrolled": true
   },
   "outputs": [
    {
     "name": "stderr",
     "output_type": "stream",
     "text": [
      "2020-07-14 15:06:04.535076: I tensorflow/stream_executor/platform/default/dso_loader.cc:44] Successfully opened dynamic library cudart64_101.dll\n",
      "\n",
      "  0%|          | 0/45 [00:00<?, ?it/s]\n",
      "  2%|▏         | 1/45 [00:53<38:57, 53.13s/it]\n",
      "  4%|▍         | 2/45 [01:21<32:45, 45.72s/it]\n",
      "  7%|▋         | 3/45 [01:56<29:41, 42.41s/it]\n",
      "  9%|▉         | 4/45 [02:52<31:54, 46.70s/it]\n",
      " 11%|█         | 5/45 [03:33<29:57, 44.93s/it]\n",
      " 13%|█▎        | 6/45 [04:15<28:33, 43.94s/it]\n",
      " 16%|█▌        | 7/45 [04:46<25:21, 40.04s/it]\n",
      " 18%|█▊        | 8/45 [05:45<28:17, 45.88s/it]\n",
      " 20%|██        | 9/45 [06:31<27:26, 45.73s/it]\n",
      " 22%|██▏       | 10/45 [07:46<31:48, 54.52s/it]\n",
      " 24%|██▍       | 11/45 [08:19<27:21, 48.27s/it]\n",
      " 27%|██▋       | 12/45 [09:05<26:10, 47.58s/it]\n",
      " 29%|██▉       | 13/45 [10:12<28:25, 53.29s/it]\n",
      " 31%|███       | 14/45 [10:41<23:50, 46.13s/it]\n",
      " 33%|███▎      | 15/45 [11:27<22:59, 46.00s/it]\n",
      " 36%|███▌      | 16/45 [12:09<21:36, 44.69s/it]\n",
      " 38%|███▊      | 17/45 [12:39<18:52, 40.44s/it]\n",
      " 40%|████      | 18/45 [13:30<19:35, 43.53s/it]\n",
      " 42%|████▏     | 19/45 [13:50<15:50, 36.57s/it]\n",
      " 44%|████▍     | 20/45 [14:17<14:03, 33.73s/it]\n",
      " 47%|████▋     | 21/45 [15:32<18:21, 45.90s/it]\n",
      " 49%|████▉     | 22/45 [16:13<17:06, 44.62s/it]\n",
      " 51%|█████     | 23/45 [17:00<16:34, 45.19s/it]\n",
      " 53%|█████▎    | 24/45 [18:33<20:52, 59.64s/it]\n",
      " 56%|█████▌    | 25/45 [19:51<21:40, 65.03s/it]\n",
      " 58%|█████▊    | 26/45 [21:00<21:00, 66.32s/it]\n",
      " 60%|██████    | 27/45 [22:45<23:23, 77.96s/it]\n",
      " 62%|██████▏   | 28/45 [24:28<24:09, 85.26s/it]\n",
      " 64%|██████▍   | 29/45 [25:29<20:51, 78.22s/it]\n",
      " 67%|██████▋   | 30/45 [26:30<18:12, 72.85s/it]\n",
      " 69%|██████▉   | 31/45 [28:02<18:19, 78.56s/it]\n",
      " 71%|███████   | 32/45 [28:44<14:41, 67.77s/it]\n",
      " 73%|███████▎  | 33/45 [30:20<15:14, 76.17s/it]\n",
      " 76%|███████▌  | 34/45 [31:00<11:59, 65.42s/it]\n",
      " 78%|███████▊  | 35/45 [31:39<09:33, 57.32s/it]\n",
      " 80%|████████  | 36/45 [32:10<07:24, 49.39s/it]\n",
      " 82%|████████▏ | 37/45 [32:54<06:23, 47.89s/it]\n",
      " 84%|████████▍ | 38/45 [33:44<05:39, 48.53s/it]\n",
      " 87%|████████▋ | 39/45 [34:35<04:55, 49.21s/it]\n",
      " 89%|████████▉ | 40/45 [35:12<03:48, 45.66s/it]\n",
      " 91%|█████████ | 41/45 [36:04<03:10, 47.53s/it]\n",
      " 93%|█████████▎| 42/45 [36:49<02:19, 46.64s/it]\n",
      " 96%|█████████▌| 43/45 [37:17<01:22, 41.23s/it]\n",
      " 98%|█████████▊| 44/45 [38:30<00:50, 50.82s/it]\n",
      "100%|██████████| 45/45 [39:26<00:00, 52.30s/it]\n",
      "100%|██████████| 45/45 [39:26<00:00, 52.59s/it]\n"
     ]
    }
   ],
   "source": [
    "!python data_alt.py"
   ]
  },
  {
   "cell_type": "code",
   "execution_count": 2,
   "metadata": {
    "scrolled": false
   },
   "outputs": [
    {
     "name": "stdout",
     "output_type": "stream",
     "text": [
      "feature: MLII"
     ]
    },
    {
     "name": "stderr",
     "output_type": "stream",
     "text": [
      "2020-07-23 18:37:36.983417: I tensorflow/stream_executor/platform/default/dso_loader.cc:44] Successfully opened dynamic library cudart64_101.dll\n",
      "2020-07-23 18:37:44.107216: I tensorflow/core/profiler/lib/profiler_session.cc:159] Profiler session started.\n",
      "2020-07-23 18:37:44.113674: I tensorflow/stream_executor/platform/default/dso_loader.cc:44] Successfully opened dynamic library nvcuda.dll\n",
      "2020-07-23 18:37:44.187615: I tensorflow/core/profiler/internal/gpu/cupti_tracer.cc:1363] Profiler found 1 GPUs\n",
      "2020-07-23 18:37:44.200005: I tensorflow/stream_executor/platform/default/dso_loader.cc:44] Successfully opened dynamic library cupti64_101.dll\n",
      "2020-07-23 18:37:44.215774: I tensorflow/core/profiler/internal/gpu/cupti_tracer.cc:1479] CUPTI activity buffer flushed\n",
      "WARNING:tensorflow:`period` argument is deprecated. Please use `save_freq` to specify the frequency in number of batches seen.\n",
      "2020-07-23 18:37:44.242017: I tensorflow/core/common_runtime/gpu/gpu_device.cc:1561] Found device 0 with properties: \n",
      "pciBusID: 0000:02:00.0 name: GeForce GTX 1050 with Max-Q Design computeCapability: 6.1\n",
      "coreClock: 1.139GHz coreCount: 5 deviceMemorySize: 4.00GiB deviceMemoryBandwidth: 104.43GiB/s\n",
      "2020-07-23 18:37:44.242524: I tensorflow/stream_executor/platform/default/dso_loader.cc:44] Successfully opened dynamic library cudart64_101.dll\n",
      "2020-07-23 18:37:44.278217: I tensorflow/stream_executor/platform/default/dso_loader.cc:44] Successfully opened dynamic library cublas64_10.dll\n",
      "2020-07-23 18:37:44.313073: I tensorflow/stream_executor/platform/default/dso_loader.cc:44] Successfully opened dynamic library cufft64_10.dll\n",
      "2020-07-23 18:37:44.320277: I tensorflow/stream_executor/platform/default/dso_loader.cc:44] Successfully opened dynamic library curand64_10.dll\n",
      "2020-07-23 18:37:44.359100: I tensorflow/stream_executor/platform/default/dso_loader.cc:44] Successfully opened dynamic library cusolver64_10.dll\n",
      "2020-07-23 18:37:44.378257: I tensorflow/stream_executor/platform/default/dso_loader.cc:44] Successfully opened dynamic library cusparse64_10.dll\n",
      "2020-07-23 18:37:44.445456: I tensorflow/stream_executor/platform/default/dso_loader.cc:44] Successfully opened dynamic library cudnn64_7.dll\n",
      "2020-07-23 18:37:44.446510: I tensorflow/core/common_runtime/gpu/gpu_device.cc:1703] Adding visible gpu devices: 0\n",
      "2020-07-23 18:37:44.448548: I tensorflow/core/platform/cpu_feature_guard.cc:143] Your CPU supports instructions that this TensorFlow binary was not compiled to use: AVX2\n",
      "2020-07-23 18:37:44.533506: I tensorflow/compiler/xla/service/service.cc:168] XLA service 0x20ffd812690 initialized for platform Host (this does not guarantee that XLA will be used). Devices:\n",
      "2020-07-23 18:37:44.533905: I tensorflow/compiler/xla/service/service.cc:176]   StreamExecutor device (0): Host, Default Version\n",
      "2020-07-23 18:37:44.535013: I tensorflow/core/common_runtime/gpu/gpu_device.cc:1561] Found device 0 with properties: \n",
      "pciBusID: 0000:02:00.0 name: GeForce GTX 1050 with Max-Q Design computeCapability: 6.1\n",
      "coreClock: 1.139GHz coreCount: 5 deviceMemorySize: 4.00GiB deviceMemoryBandwidth: 104.43GiB/s\n",
      "2020-07-23 18:37:44.535663: I tensorflow/stream_executor/platform/default/dso_loader.cc:44] Successfully opened dynamic library cudart64_101.dll\n",
      "2020-07-23 18:37:44.535991: I tensorflow/stream_executor/platform/default/dso_loader.cc:44] Successfully opened dynamic library cublas64_10.dll\n",
      "2020-07-23 18:37:44.536382: I tensorflow/stream_executor/platform/default/dso_loader.cc:44] Successfully opened dynamic library cufft64_10.dll\n",
      "2020-07-23 18:37:44.536801: I tensorflow/stream_executor/platform/default/dso_loader.cc:44] Successfully opened dynamic library curand64_10.dll\n",
      "2020-07-23 18:37:44.537257: I tensorflow/stream_executor/platform/default/dso_loader.cc:44] Successfully opened dynamic library cusolver64_10.dll\n",
      "2020-07-23 18:37:44.537761: I tensorflow/stream_executor/platform/default/dso_loader.cc:44] Successfully opened dynamic library cusparse64_10.dll\n",
      "2020-07-23 18:37:44.538032: I tensorflow/stream_executor/platform/default/dso_loader.cc:44] Successfully opened dynamic library cudnn64_7.dll\n",
      "2020-07-23 18:37:44.538377: I tensorflow/core/common_runtime/gpu/gpu_device.cc:1703] Adding visible gpu devices: 0\n",
      "2020-07-23 18:37:49.554673: I tensorflow/core/common_runtime/gpu/gpu_device.cc:1102] Device interconnect StreamExecutor with strength 1 edge matrix:\n",
      "2020-07-23 18:37:49.556161: I tensorflow/core/common_runtime/gpu/gpu_device.cc:1108]      0 \n",
      "2020-07-23 18:37:49.556419: I tensorflow/core/common_runtime/gpu/gpu_device.cc:1121] 0:   N \n",
      "2020-07-23 18:37:49.559192: I tensorflow/core/common_runtime/gpu/gpu_device.cc:1247] Created TensorFlow device (/job:localhost/replica:0/task:0/device:GPU:0 with 2993 MB memory) -> physical GPU (device: 0, name: GeForce GTX 1050 with Max-Q Design, pci bus id: 0000:02:00.0, compute capability: 6.1)\n",
      "2020-07-23 18:37:49.579085: I tensorflow/compiler/xla/service/service.cc:168] XLA service 0x20faf770980 initialized for platform CUDA (this does not guarantee that XLA will be used). Devices:\n",
      "2020-07-23 18:37:49.579534: I tensorflow/compiler/xla/service/service.cc:176]   StreamExecutor device (0): GeForce GTX 1050 with Max-Q Design, Compute Capability 6.1\n",
      "2020-07-23 18:38:09.376483: I tensorflow/stream_executor/platform/default/dso_loader.cc:44] Successfully opened dynamic library cublas64_10.dll\n",
      "2020-07-23 18:38:12.104887: E tensorflow/stream_executor/cuda/cuda_blas.cc:238] failed to create cublas handle: CUBLAS_STATUS_ALLOC_FAILED\n",
      "2020-07-23 18:38:12.117660: E tensorflow/stream_executor/cuda/cuda_blas.cc:238] failed to create cublas handle: CUBLAS_STATUS_ALLOC_FAILED\n",
      "2020-07-23 18:38:12.118298: E tensorflow/stream_executor/cuda/cuda_blas.cc:238] failed to create cublas handle: CUBLAS_STATUS_ALLOC_FAILED\n",
      "2020-07-23 18:38:12.942549: I tensorflow/stream_executor/platform/default/dso_loader.cc:44] Successfully opened dynamic library cudnn64_7.dll\n",
      "2020-07-23 18:38:19.124508: E tensorflow/stream_executor/cuda/cuda_dnn.cc:329] Could not create cudnn handle: CUDNN_STATUS_ALLOC_FAILED\n",
      "2020-07-23 18:38:19.136249: E tensorflow/stream_executor/cuda/cuda_dnn.cc:329] Could not create cudnn handle: CUDNN_STATUS_ALLOC_FAILED\n",
      "Traceback (most recent call last):\n",
      "  File \"ae.py\", line 121, in <module>\n",
      "    main(config)\n",
      "  File \"ae.py\", line 116, in main\n",
      "    train(config, X, y)\n"
     ]
    },
    {
     "name": "stdout",
     "output_type": "stream",
     "text": [
      "\n",
      "=====shapes======\n",
      "Xe shape (74312, 256, 1)\n",
      "y shape (74312, 1, 8)\n",
      "=================\n",
      "Model: \"model\"\n",
      "_________________________________________________________________\n",
      "Layer (type)                 Output Shape              Param #   \n",
      "=================================================================\n",
      "input (InputLayer)           [(None, 256, 1)]          0         \n",
      "_________________________________________________________________\n",
      "conv1d (Conv1D)              (None, 128, 32)           544       \n",
      "_________________________________________________________________\n",
      "reflection_padding1d (Reflec (None, 256, 32)           0         \n",
      "_________________________________________________________________\n",
      "conv1d_1 (Conv1D)            (None, 128, 32)           16416     \n",
      "_________________________________________________________________\n",
      "activation (Activation)      (None, 128, 32)           0         \n",
      "_________________________________________________________________\n",
      "reflection_padding1d_1 (Refl (None, 256, 32)           0         \n",
      "_________________________________________________________________\n",
      "conv1d_2 (Conv1D)            (None, 128, 32)           16416     \n",
      "_________________________________________________________________\n",
      "activation_1 (Activation)    (None, 128, 32)           0         \n",
      "_________________________________________________________________\n",
      "reflection_padding1d_2 (Refl (None, 256, 32)           0         \n",
      "_________________________________________________________________\n",
      "conv1d_3 (Conv1D)            (None, 128, 32)           16416     \n",
      "_________________________________________________________________\n",
      "activation_2 (Activation)    (None, 128, 32)           0         \n",
      "_________________________________________________________________\n",
      "reflection_padding1d_3 (Refl (None, 256, 32)           0         \n",
      "_________________________________________________________________\n",
      "conv1d_4 (Conv1D)            (None, 128, 32)           8224      \n",
      "_________________________________________________________________\n",
      "activation_3 (Activation)    (None, 128, 32)           0         \n",
      "_________________________________________________________________\n",
      "reflection_padding1d_4 (Refl (None, 256, 32)           0         \n",
      "_________________________________________________________________\n",
      "dense (Dense)                (None, 256, 1)            33        \n",
      "=================================================================\n",
      "Total params: 58,049\n",
      "Trainable params: 58,049\n",
      "Non-trainable params: 0\n",
      "_________________________________________________________________\n",
      "Epoch 1/5\n"
     ]
    },
    {
     "name": "stderr",
     "output_type": "stream",
     "text": [
      "  File \"ae.py\", line 69, in train\n",
      "    initial_epoch=initial_epoch)\n",
      "  File \"C:\\Users\\Du\\anaconda3\\envs\\MScProject\\lib\\site-packages\\tensorflow\\python\\keras\\engine\\training.py\", line 66, in _method_wrapper\n",
      "    return method(self, *args, **kwargs)\n",
      "  File \"C:\\Users\\Du\\anaconda3\\envs\\MScProject\\lib\\site-packages\\tensorflow\\python\\keras\\engine\\training.py\", line 848, in fit\n",
      "    tmp_logs = train_function(iterator)\n",
      "  File \"C:\\Users\\Du\\anaconda3\\envs\\MScProject\\lib\\site-packages\\tensorflow\\python\\eager\\def_function.py\", line 580, in __call__\n",
      "    result = self._call(*args, **kwds)\n",
      "  File \"C:\\Users\\Du\\anaconda3\\envs\\MScProject\\lib\\site-packages\\tensorflow\\python\\eager\\def_function.py\", line 644, in _call\n",
      "    return self._stateless_fn(*args, **kwds)\n",
      "  File \"C:\\Users\\Du\\anaconda3\\envs\\MScProject\\lib\\site-packages\\tensorflow\\python\\eager\\function.py\", line 2420, in __call__\n",
      "    return graph_function._filtered_call(args, kwargs)  # pylint: disable=protected-access\n",
      "  File \"C:\\Users\\Du\\anaconda3\\envs\\MScProject\\lib\\site-packages\\tensorflow\\python\\eager\\function.py\", line 1665, in _filtered_call\n",
      "    self.captured_inputs)\n",
      "  File \"C:\\Users\\Du\\anaconda3\\envs\\MScProject\\lib\\site-packages\\tensorflow\\python\\eager\\function.py\", line 1746, in _call_flat\n",
      "    ctx, args, cancellation_manager=cancellation_manager))\n",
      "  File \"C:\\Users\\Du\\anaconda3\\envs\\MScProject\\lib\\site-packages\\tensorflow\\python\\eager\\function.py\", line 598, in call\n",
      "    ctx=ctx)\n",
      "  File \"C:\\Users\\Du\\anaconda3\\envs\\MScProject\\lib\\site-packages\\tensorflow\\python\\eager\\execute.py\", line 60, in quick_execute\n",
      "    inputs, attrs, num_outputs)\n",
      "tensorflow.python.framework.errors_impl.UnknownError:  Failed to get convolution algorithm. This is probably because cuDNN failed to initialize, so try looking to see if a warning log message was printed above.\n",
      "\t [[node model/conv1d/conv1d (defined at ae.py:69) ]] [Op:__inference_train_function_1278]\n",
      "\n",
      "Function call stack:\n",
      "train_function\n",
      "\n"
     ]
    }
   ],
   "source": [
    "!python ae.py"
   ]
  },
  {
   "cell_type": "code",
   "execution_count": 1,
   "metadata": {},
   "outputs": [
    {
     "name": "stdout",
     "output_type": "stream",
     "text": [
      " 磁碟區 C 中的磁碟是 OS\n",
      " 磁碟區序號:  4024-5D2D\n",
      "\n",
      " C:\\Users\\Du\\Desktop\\ecg-mit-bih-master\\src 的目錄\n",
      "\n",
      "2020/07/21  下午 01:58    <DIR>          .\n",
      "2020/07/21  下午 01:58    <DIR>          ..\n",
      "2020/07/10  上午 12:56    <DIR>          .ipynb_checkpoints\n",
      "2020/07/22  下午 12:14             3,393 ae.py\n",
      "2019/11/22  上午 04:06             2,008 app.py\n",
      "2020/07/22  上午 11:08             1,982 config.py\n",
      "2020/07/07  下午 07:32             6,234 data.py\n",
      "2020/07/16  下午 04:34    <DIR>          dataset\n",
      "2020/07/16  下午 08:39             6,888 data_alt.py\n",
      "2020/07/16  下午 04:32             6,989 data_alt_debug.py\n",
      "2020/07/10  上午 11:38             3,093 data_SMOTE.py\n",
      "2020/07/10  下午 01:13             6,634 data_split.py\n",
      "2020/07/02  下午 03:07               137 gpu.py\n",
      "2020/07/16  下午 05:56             4,648 graph.py\n",
      "2020/07/22  上午 11:57             6,130 graph_ae.py\n",
      "2020/06/26  上午 12:40    <DIR>          logs\n",
      "2020/06/26  下午 05:11    <DIR>          models\n",
      "2020/07/03  上午 02:01             7,032 model_alt.py\n",
      "2020/06/26  上午 01:13    <DIR>          practice\n",
      "2019/11/22  上午 04:06             3,679 predict.py\n",
      "2020/07/13  下午 05:15             1,931 read.py\n",
      "2020/07/16  下午 06:21             7,467 read_debug.py\n",
      "2020/06/26  下午 05:12    <DIR>          results\n",
      "2020/07/14  下午 04:25             7,574 run.ipynb\n",
      "2019/11/22  上午 04:06    <DIR>          static\n",
      "2019/11/22  上午 04:06    <DIR>          templates\n",
      "2020/07/03  上午 12:06             6,493 test.py\n",
      "2020/07/21  下午 11:33             2,518 train.py\n",
      "2020/06/26  上午 12:00    <DIR>          training2017\n",
      "2020/06/25  下午 11:46        99,226,822 training2017.zip\n",
      "2020/07/10  下午 02:19             2,588 train_DS1DS2.py\n",
      "2020/07/17  上午 10:57             3,219 train_KFOLD.py\n",
      "2020/07/16  下午 11:37             3,192 train_LOGO.py\n",
      "2020/07/10  下午 12:58             3,308 train_SMOTE.py\n",
      "2020/07/16  下午 06:12            10,170 utils.py\n",
      "2020/07/22  上午 11:58    <DIR>          __pycache__\n",
      "              24 個檔案      99,334,129 位元組\n",
      "              12 個目錄  134,787,571,712 位元組可用\n"
     ]
    }
   ],
   "source": [
    "!dir"
   ]
  }
 ],
 "metadata": {
  "kernelspec": {
   "display_name": "Python 3",
   "language": "python",
   "name": "python3"
  },
  "language_info": {
   "codemirror_mode": {
    "name": "ipython",
    "version": 3
   },
   "file_extension": ".py",
   "mimetype": "text/x-python",
   "name": "python",
   "nbconvert_exporter": "python",
   "pygments_lexer": "ipython3",
   "version": "3.7.7"
  }
 },
 "nbformat": 4,
 "nbformat_minor": 4
}
